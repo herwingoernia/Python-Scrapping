{
 "metadata": {
  "language_info": {
   "codemirror_mode": {
    "name": "ipython",
    "version": 3
   },
   "file_extension": ".py",
   "mimetype": "text/x-python",
   "name": "python",
   "nbconvert_exporter": "python",
   "pygments_lexer": "ipython3",
   "version": "3.8.3-final"
  },
  "orig_nbformat": 2,
  "kernelspec": {
   "name": "python_defaultSpec_1597385233145",
   "display_name": "Python 3.8.3 32-bit"
  }
 },
 "nbformat": 4,
 "nbformat_minor": 2,
 "cells": [
  {
   "cell_type": "code",
   "execution_count": 182,
   "metadata": {},
   "outputs": [],
   "source": [
    "url_dki = \"https://www.olx.co.id/mobil-bekas_c198?filter=m_color_eq_putih_and_hitam%2Cm_transmission_eq_automatic%2Cm_year_min_2015%2Cprice_between_70000000_to_100000000&sorting=asc-price\"\n"
   ]
  },
  {
   "cell_type": "code",
   "execution_count": 16,
   "metadata": {},
   "outputs": [],
   "source": [
    "# diler | individu\n",
    "# automatic | manual\n",
    "# tahun \n",
    "\n",
    "def mobil_bekas_search(opt):\n",
    "    filter = \"\"\n",
    "    if len(opt)>0:\n",
    "        conn = \"%2C\"\n",
    "        filter = \"?filter=\"\n",
    "        for index,val in enumerate(opt[0]):\n",
    "            if val=='tipe_penjual':\n",
    "                val = f\"m_seller_type_eq_seller-type-{opt[0][val]}\"\n",
    "            \n",
    "            if val=='tipe_transmisi':\n",
    "                val = f\"m_transmission_eq_{opt[0][val]}\"\n",
    "            \n",
    "            if val=='tahun_min':\n",
    "                val = f\"m_year_min_{opt[0][val]}\"\n",
    "            \n",
    "            if val=='tahun_max':\n",
    "                val = f\"m_year_max_{opt[0][val]}\"\n",
    "            \n",
    "            if val=='harga_min':\n",
    "                val = f\"price_min_{opt[0][val]}\"\n",
    "            \n",
    "            if val=='harga_max':\n",
    "                val = f\"price_max_{opt[0][val]}\"\n",
    "            \n",
    "            if val=='tahun_min_max':\n",
    "                val = f\"m_year_between_{opt[0][val]}\"\n",
    "            \n",
    "            if val=='harga_min_max':\n",
    "                val = f\"price_between_{opt[0][val]}\"\n",
    "            \n",
    "            filter = filter + conn + val\n",
    "    \n",
    "    url = \"https://www.olx.co.id/mobil-bekas_c198\" + filter\n",
    "    print(url)"
   ]
  },
  {
   "cell_type": "code",
   "execution_count": 18,
   "metadata": {
    "tags": []
   },
   "outputs": [
    {
     "output_type": "stream",
     "name": "stdout",
     "text": "https://www.olx.co.id/mobil-bekas_c198?filter=%2Cm_seller_type_eq_seller-type-individu%2Cm_transmission_eq_automatic%2Cm_year_min_2010%2Cm_price_between_70000000_to_100000000\n"
    }
   ],
   "source": [
    "opt = [{\n",
    "    'tipe_penjual':'individu', \n",
    "    'tipe_transmisi':'automatic',\n",
    "    'tahun_min':'2010',\n",
    "    'harga_min_max':'70000000_to_100000000'\n",
    "    }]\n",
    "mobil_bekas_search(opt)"
   ]
  },
  {
   "cell_type": "code",
   "execution_count": 28,
   "metadata": {},
   "outputs": [
    {
     "output_type": "execute_result",
     "data": {
      "text/plain": "{'tipe_penjual': 'individu', 'tipe_transmisi': 'automatic'}"
     },
     "metadata": {},
     "execution_count": 28
    }
   ],
   "source": [
    "opt[0]"
   ]
  },
  {
   "cell_type": "code",
   "execution_count": 109,
   "metadata": {},
   "outputs": [],
   "source": [
    "import requests\n",
    "from bs4 import BeautifulSoup as bs\n",
    "import pandas as pd\n",
    "import numpy as np"
   ]
  },
  {
   "cell_type": "code",
   "execution_count": 183,
   "metadata": {
    "tags": []
   },
   "outputs": [
    {
     "output_type": "stream",
     "name": "stdout",
     "text": "Jual Beli Mobil Bekas Automatic 70000000 100000000 juta Murah & Cari Mobil Bekas di Indonesia - OLX.co.id\nMORE button clicked\nMORE button clicked\nMORE button clicked\nMORE button clicked\nMORE button clicked\nMORE button clicked\nMORE button clicked\nMORE button clicked\nMORE button clicked\nMORE button clicked\nMORE button clicked\nMORE button clicked\nMORE button clicked\nMORE button clicked\nMORE button clicked\nMORE button clicked\nMORE button clicked\nMORE button clicked\nMORE button clicked\nMORE button clicked\nMORE button clicked\nMORE button clicked\nMORE button clicked\nDone..!\n"
    }
   ],
   "source": [
    "import time\n",
    "from selenium import webdriver\n",
    "from selenium.webdriver.common.by import By\n",
    "from selenium.webdriver.support.ui import WebDriverWait\n",
    "from selenium.webdriver.support import expected_conditions as EC\n",
    "from selenium.common.exceptions import TimeoutException\n",
    "\n",
    "PATH = \"D:\\Programming\\Python\\Scrapping\\driver_selenium\\chromedriver.exe\"\n",
    "\n",
    "options = webdriver.ChromeOptions()\n",
    "options.add_argument('--ignore-certificate-errors')\n",
    "options.add_argument('--incognito')\n",
    "options.add_argument('--headless')\n",
    "options.add_argument('--no-sandbox')\n",
    "options.add_argument(\"start-maximized\")\n",
    "driver = webdriver.Chrome(PATH, chrome_options=options)\n",
    "\n",
    "driver.get(url_dki)\n",
    "print(driver.title)\n",
    "WebDriverWait(driver, 20).until(EC.visibility_of_element_located((By.CSS_SELECTOR, \"[data-aut-id=btnLoadMore]\")))\n",
    "while True:\n",
    "    try:\n",
    "        WebDriverWait(driver, 20).until(EC.visibility_of_element_located((By.CSS_SELECTOR, \"[data-aut-id=btnLoadMore]\"))).click()\n",
    "        print(\"MORE button clicked\")\n",
    "        time.sleep(1) \n",
    "    except TimeoutException:\n",
    "        break\n",
    "\n",
    "page_source = driver.page_source\n",
    "driver.quit()  \n",
    "\n",
    "soup = bs(page_source, 'lxml')\n",
    "items = soup.find_all(attrs={\"data-aut-id\":\"itemBox\"})\n",
    "\n",
    "links = []\n",
    "titles = []\n",
    "prices = []\n",
    "years = []\n",
    "locations = []\n",
    "\n",
    "# looping\n",
    "for item in items:\n",
    "    # title\n",
    "    title_tag = item.find(attrs={\"data-aut-id\":\"itemTitle\"}).string.extract()\n",
    "    titles.append(title_tag)\n",
    "\n",
    "    # link\n",
    "    a_tag = item.find('a').attrs['href']\n",
    "    links.append(a_tag)\n",
    "\n",
    "    # price\n",
    "    price_tag = item.find(attrs={\"data-aut-id\":\"itemPrice\"}).string.extract()\n",
    "    prices.append(price_tag)\n",
    "\n",
    "    # year\n",
    "    year_tag = item.find(attrs={\"data-aut-id\":\"itemDetails\"}).string.extract()\n",
    "    years.append(year_tag)\n",
    "\n",
    "    # location\n",
    "    location_tag = item.find(attrs={\"data-aut-id\":\"item-location\"}).string.extract()\n",
    "    locations.append(location_tag)\n",
    "\n",
    "d = {'title':titles, 'price':prices, 'year':years, 'location':locations, 'link':links}\n",
    "df = pd.DataFrame(d)\n",
    "df['price'] = df['price'].str.replace('.', '').str.replace('Rp ', '').astype(int)\n",
    "df['link'] = \"https://www.olx.co.id\" + df['link']\n",
    "df = df.drop_duplicates(['link']).reset_index(drop=True)\n",
    "print(\"Done..!\")"
   ]
  },
  {
   "cell_type": "code",
   "execution_count": 184,
   "metadata": {},
   "outputs": [
    {
     "output_type": "execute_result",
     "data": {
      "text/plain": "                                    title      price  year  \\\n24   Honda Mobilio 2019 Harga Bisa Nego    70000000   2019   \n26   Oper kredit Datsun Cross (30Jt nett)  70000000   2018   \n3    Wagon R GS AT 2015 putih low KM       74500000   2015   \n38   Datsun go+ warna putih tahun 2016     75000000   2016   \n36   Mobil BR-V KM Rendah                  75000000   2017   \n..                    ...                       ...    ...   \n413  Nissan march 2016 metic               100000000  2016   \n414  Dijual Sigra 1.2 R                    100000000  2017   \n415  Take over honda brio tangan pertama   100000000  2015   \n406  Over Kredit Datsun Go, Terima TT      100000000  2019   \n446  Over kredit Sigra R a/t 2016 Hitam    100000000  2016   \n\n                                  location  \\\n24   Cileungsi, Bogor Kab.                   \n26   Bulak, Surabaya Kota                    \n3    Serpong Utara, Tangerang Selatan Kota   \n38   Cianjur, Cianjur Kab.                   \n36   Ciampea, Bogor Kab.                     \n..                   ...                     \n413  Mamajang, Makassar Kota                 \n414  Pesanggrahan, Jakarta Selatan           \n415  Kelapa Dua, Tangerang Kab.              \n406  Sukajadi, Bandung Kota                  \n446  Bekasi Utara, Bekasi Kota               \n\n                                                                             link  \n24   https://www.olx.co.id/item/honda-mobilio-2019-harga-bisa-nego-iid-794770053   \n26   https://www.olx.co.id/item/oper-kredit-datsun-cross-30jt-nett-iid-793422115   \n3    https://www.olx.co.id/item/wagon-r-gs-at-2015-putih-low-km-iid-791614500      \n38   https://www.olx.co.id/item/datsun-go-warna-putih-tahun-2016-iid-790995617     \n36   https://www.olx.co.id/item/mobil-br-v-km-rendah-iid-792519559                 \n..                                                             ...                 \n413  https://www.olx.co.id/item/nissan-march-2016-metic-iid-793774450              \n414  https://www.olx.co.id/item/dijual-sigra-12-r-iid-793589392                    \n415  https://www.olx.co.id/item/take-over-honda-brio-tangan-pertama-iid-793576589  \n406  https://www.olx.co.id/item/over-kredit-datsun-go-terima-tt-iid-794635327      \n446  https://www.olx.co.id/item/over-kredit-sigra-r-at-2016-hitam-iid-511172918    \n\n[220 rows x 5 columns]",
      "text/html": "<div>\n<style scoped>\n    .dataframe tbody tr th:only-of-type {\n        vertical-align: middle;\n    }\n\n    .dataframe tbody tr th {\n        vertical-align: top;\n    }\n\n    .dataframe thead th {\n        text-align: right;\n    }\n</style>\n<table border=\"1\" class=\"dataframe\">\n  <thead>\n    <tr style=\"text-align: right;\">\n      <th></th>\n      <th>title</th>\n      <th>price</th>\n      <th>year</th>\n      <th>location</th>\n      <th>link</th>\n    </tr>\n  </thead>\n  <tbody>\n    <tr>\n      <th>24</th>\n      <td>Honda Mobilio 2019 Harga Bisa Nego</td>\n      <td>70000000</td>\n      <td>2019</td>\n      <td>Cileungsi, Bogor Kab.</td>\n      <td>https://www.olx.co.id/item/honda-mobilio-2019-harga-bisa-nego-iid-794770053</td>\n    </tr>\n    <tr>\n      <th>26</th>\n      <td>Oper kredit Datsun Cross (30Jt nett)</td>\n      <td>70000000</td>\n      <td>2018</td>\n      <td>Bulak, Surabaya Kota</td>\n      <td>https://www.olx.co.id/item/oper-kredit-datsun-cross-30jt-nett-iid-793422115</td>\n    </tr>\n    <tr>\n      <th>3</th>\n      <td>Wagon R GS AT 2015 putih low KM</td>\n      <td>74500000</td>\n      <td>2015</td>\n      <td>Serpong Utara, Tangerang Selatan Kota</td>\n      <td>https://www.olx.co.id/item/wagon-r-gs-at-2015-putih-low-km-iid-791614500</td>\n    </tr>\n    <tr>\n      <th>38</th>\n      <td>Datsun go+ warna putih tahun 2016</td>\n      <td>75000000</td>\n      <td>2016</td>\n      <td>Cianjur, Cianjur Kab.</td>\n      <td>https://www.olx.co.id/item/datsun-go-warna-putih-tahun-2016-iid-790995617</td>\n    </tr>\n    <tr>\n      <th>36</th>\n      <td>Mobil BR-V KM Rendah</td>\n      <td>75000000</td>\n      <td>2017</td>\n      <td>Ciampea, Bogor Kab.</td>\n      <td>https://www.olx.co.id/item/mobil-br-v-km-rendah-iid-792519559</td>\n    </tr>\n    <tr>\n      <th>...</th>\n      <td>...</td>\n      <td>...</td>\n      <td>...</td>\n      <td>...</td>\n      <td>...</td>\n    </tr>\n    <tr>\n      <th>413</th>\n      <td>Nissan march 2016 metic</td>\n      <td>100000000</td>\n      <td>2016</td>\n      <td>Mamajang, Makassar Kota</td>\n      <td>https://www.olx.co.id/item/nissan-march-2016-metic-iid-793774450</td>\n    </tr>\n    <tr>\n      <th>414</th>\n      <td>Dijual Sigra 1.2 R</td>\n      <td>100000000</td>\n      <td>2017</td>\n      <td>Pesanggrahan, Jakarta Selatan</td>\n      <td>https://www.olx.co.id/item/dijual-sigra-12-r-iid-793589392</td>\n    </tr>\n    <tr>\n      <th>415</th>\n      <td>Take over honda brio tangan pertama</td>\n      <td>100000000</td>\n      <td>2015</td>\n      <td>Kelapa Dua, Tangerang Kab.</td>\n      <td>https://www.olx.co.id/item/take-over-honda-brio-tangan-pertama-iid-793576589</td>\n    </tr>\n    <tr>\n      <th>406</th>\n      <td>Over Kredit Datsun Go, Terima TT</td>\n      <td>100000000</td>\n      <td>2019</td>\n      <td>Sukajadi, Bandung Kota</td>\n      <td>https://www.olx.co.id/item/over-kredit-datsun-go-terima-tt-iid-794635327</td>\n    </tr>\n    <tr>\n      <th>446</th>\n      <td>Over kredit Sigra R a/t 2016 Hitam</td>\n      <td>100000000</td>\n      <td>2016</td>\n      <td>Bekasi Utara, Bekasi Kota</td>\n      <td>https://www.olx.co.id/item/over-kredit-sigra-r-at-2016-hitam-iid-511172918</td>\n    </tr>\n  </tbody>\n</table>\n<p>220 rows × 5 columns</p>\n</div>"
     },
     "metadata": {},
     "execution_count": 184
    }
   ],
   "source": [
    "pd.set_option('display.max_colwidth', -1)\n",
    "\n",
    "# remove agya ayla karimun\n",
    "remove_kaleng = df['title'].str.lower().str.contains('agya|ayla|karimun|agia')\n",
    "df.loc[remove_kaleng==False].sort_values(by=['price'])"
   ]
  }
 ]
}